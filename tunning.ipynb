{
 "cells": [
  {
   "cell_type": "code",
   "execution_count": 1,
   "metadata": {},
   "outputs": [],
   "source": [
    "import numpy as np\n",
    "from scipy import stats\n",
    "import matplotlib.pyplot as plt\n",
    "#import pystan\n"
   ]
  },
  {
   "cell_type": "code",
   "execution_count": 2,
   "metadata": {},
   "outputs": [],
   "source": [
    "from scipy import stats"
   ]
  },
  {
   "cell_type": "code",
   "execution_count": 3,
   "metadata": {},
   "outputs": [],
   "source": [
    "# r_i \\succ c_i\n",
    "preferences = [\n",
    "    (0.2, 0.1), \n",
    "    (0.35, 0.5),\n",
    "    (0.2, 0.35),\n",
    "    (0.2, 0.6),\n",
    "    (0.8, 0.7)\n",
    "]"
   ]
  },
  {
   "cell_type": "code",
   "execution_count": 4,
   "metadata": {},
   "outputs": [
    {
     "data": {
      "text/plain": [
       "[0.1, 0.2, 0.35, 0.5, 0.6, 0.7, 0.8]"
      ]
     },
     "execution_count": 4,
     "metadata": {},
     "output_type": "execute_result"
    }
   ],
   "source": [
    "x_unique = list(set(sum(preferences, tuple())))\n",
    "x_unique.sort()\n",
    "x_unique"
   ]
  },
  {
   "cell_type": "code",
   "execution_count": 5,
   "metadata": {},
   "outputs": [],
   "source": [
    "rd = {v:idx for idx, v in enumerate(x_unique)}"
   ]
  },
  {
   "cell_type": "code",
   "execution_count": 6,
   "metadata": {},
   "outputs": [
    {
     "data": {
      "text/plain": [
       "[[1, 0], [2, 3], [1, 2], [1, 4], [6, 5]]"
      ]
     },
     "execution_count": 6,
     "metadata": {},
     "output_type": "execute_result"
    }
   ],
   "source": [
    "succ_list = []\n",
    "for left, right in preferences:\n",
    "    succ_list.append([rd[left], rd[right]])\n",
    "succ_list"
   ]
  },
  {
   "cell_type": "code",
   "execution_count": 7,
   "metadata": {},
   "outputs": [],
   "source": [
    "alpha = 0.5\n",
    "rho = 0.5\n",
    "sigma = 0.1\n",
    "\n",
    "succ_list = np.array(succ_list) #+ 1 # index start from 1\n",
    "x = np.array(x_unique)\n",
    "\n",
    "N = x.shape[0]\n",
    "M = succ_list.shape[0]"
   ]
  },
  {
   "cell_type": "code",
   "execution_count": 8,
   "metadata": {},
   "outputs": [],
   "source": [
    "def cov_exp_quad(x, y=None,*, alpha, rho):\n",
    "    if y is None:\n",
    "        y = x\n",
    "    mat = (x[:,np.newaxis] - y[np.newaxis])**2\n",
    "    k = alpha**2 * np.exp(-mat /2 /(rho**2))\n",
    "    return k"
   ]
  },
  {
   "cell_type": "code",
   "execution_count": 9,
   "metadata": {},
   "outputs": [],
   "source": [
    "K = cov_exp_quad(x, alpha = alpha, rho = rho)\n",
    "K = K + np.eye(K.shape[0])*1e-6\n",
    "\n",
    "L_K = np.linalg.cholesky(K)\n",
    "\n",
    "mu = np.zeros(N)"
   ]
  },
  {
   "cell_type": "code",
   "execution_count": 10,
   "metadata": {},
   "outputs": [
    {
     "data": {
      "text/plain": [
       "array([[0.500001  , 0.        , 0.        , 0.        , 0.        ,\n",
       "        0.        , 0.        ],\n",
       "       [0.49009836, 0.09901819, 0.        , 0.        , 0.        ,\n",
       "        0.        , 0.        ],\n",
       "       [0.44124757, 0.22970187, 0.05038486, 0.        , 0.        ,\n",
       "        0.        , 0.        ],\n",
       "       [0.36307379, 0.31181832, 0.14227868, 0.02654307, 0.        ,\n",
       "        0.        , 0.        ],\n",
       "       [0.30326472, 0.33234013, 0.20780555, 0.06578569, 0.00840477,\n",
       "        0.        , 0.        ],\n",
       "       [0.24337564, 0.32675476, 0.26259962, 0.11925231, 0.02783513,\n",
       "        0.00679381, 0.        ],\n",
       "       [0.18765517, 0.30013246, 0.29772486, 0.17850902, 0.06087177,\n",
       "        0.02131911, 0.00644999]])"
      ]
     },
     "execution_count": 10,
     "metadata": {},
     "output_type": "execute_result"
    }
   ],
   "source": [
    "L_K"
   ]
  },
  {
   "cell_type": "code",
   "execution_count": 11,
   "metadata": {},
   "outputs": [
    {
     "data": {
      "text/plain": [
       "True"
      ]
     },
     "execution_count": 11,
     "metadata": {},
     "output_type": "execute_result"
    }
   ],
   "source": [
    "np.allclose(L_K @ L_K.T, K)"
   ]
  },
  {
   "cell_type": "markdown",
   "metadata": {},
   "source": [
    "$$\n",
    "\\log \\det(\\Sigma) = \\log \\det(LL^T) = 2\\log \\det(L) = 2 \\log \\prod_{i}L_{ii} = 2\\sum_i \\log L_{ii}\n",
    "$$\n",
    "\n",
    "$$\n",
    "\\Sigma^{-1} = (LL^T)^{-1} = (L^{-1})^TL^{-1}\n",
    "$$"
   ]
  },
  {
   "cell_type": "code",
   "execution_count": 12,
   "metadata": {},
   "outputs": [],
   "source": [
    "import scipy"
   ]
  },
  {
   "cell_type": "code",
   "execution_count": 13,
   "metadata": {},
   "outputs": [],
   "source": [
    "_L_K_inv, _ = scipy.linalg.lapack.clapack.dtrtri(L_K, lower=1)"
   ]
  },
  {
   "cell_type": "code",
   "execution_count": 14,
   "metadata": {},
   "outputs": [
    {
     "data": {
      "text/plain": [
       "True"
      ]
     },
     "execution_count": 14,
     "metadata": {},
     "output_type": "execute_result"
    }
   ],
   "source": [
    "np.allclose(_L_K_inv @ L_K, np.eye(L_K.shape[0]))"
   ]
  },
  {
   "cell_type": "code",
   "execution_count": 15,
   "metadata": {},
   "outputs": [],
   "source": [
    "def inv_chol(X):\n",
    "    return scipy.linalg.lapack.clapack.dtrtri(L_K, lower=1)[0]"
   ]
  },
  {
   "cell_type": "code",
   "execution_count": 16,
   "metadata": {},
   "outputs": [],
   "source": [
    "# While `stats.multivariate_normal` doesn't provide a cholsky factor parametrization, we will implement it manually.\n",
    "def logpdf_multivariate_normal(x, mean, chol):\n",
    "    k = mean.shape[0]\n",
    "    inv_L_K = inv_chol(L_K)\n",
    "    f = inv_L_K @ (x - mean)\n",
    "    \n",
    "    const = -k/2. * np.log(2*np.pi)\n",
    "    det = -np.sum(np.log(np.diagonal(chol)))\n",
    "    quad = -0.5 * f.T @ f\n",
    "    \n",
    "    return const + det + quad"
   ]
  },
  {
   "cell_type": "code",
   "execution_count": 17,
   "metadata": {},
   "outputs": [
    {
     "data": {
      "text/plain": [
       "14.084699544398418"
      ]
     },
     "execution_count": 17,
     "metadata": {},
     "output_type": "execute_result"
    }
   ],
   "source": [
    "logpdf_multivariate_normal(np.ones(K.shape[0]), np.zeros(K.shape[0]), L_K)"
   ]
  },
  {
   "cell_type": "code",
   "execution_count": 18,
   "metadata": {},
   "outputs": [
    {
     "data": {
      "text/plain": [
       "14.084699544415749"
      ]
     },
     "execution_count": 18,
     "metadata": {},
     "output_type": "execute_result"
    }
   ],
   "source": [
    "stats.multivariate_normal(np.zeros(K.shape[0]), K).logpdf(np.ones(K.shape[0]))"
   ]
  },
  {
   "cell_type": "code",
   "execution_count": 19,
   "metadata": {},
   "outputs": [],
   "source": [
    "def model(y):\n",
    "    target = 0.0\n",
    "    target += logpdf_multivariate_normal(y, mu, L_K)\n",
    "    \n",
    "    target += np.sum(np.log(stats.norm.cdf((y[succ_list[:,0]] - y[succ_list[:,1]])/np.sqrt(2)/sigma)))\n",
    "    \n",
    "    return target"
   ]
  },
  {
   "cell_type": "code",
   "execution_count": 20,
   "metadata": {},
   "outputs": [
    {
     "data": {
      "text/plain": [
       "array([[1, 0],\n",
       "       [2, 3],\n",
       "       [1, 2],\n",
       "       [1, 4],\n",
       "       [6, 5]])"
      ]
     },
     "execution_count": 20,
     "metadata": {},
     "output_type": "execute_result"
    }
   ],
   "source": [
    "succ_list"
   ]
  },
  {
   "cell_type": "code",
   "execution_count": 21,
   "metadata": {},
   "outputs": [
    {
     "data": {
      "text/plain": [
       "14.538718406680049"
      ]
     },
     "execution_count": 21,
     "metadata": {},
     "output_type": "execute_result"
    }
   ],
   "source": [
    "model(np.zeros(x.shape[0]))"
   ]
  },
  {
   "cell_type": "code",
   "execution_count": 22,
   "metadata": {},
   "outputs": [
    {
     "data": {
      "text/plain": [
       "10.618963641598691"
      ]
     },
     "execution_count": 22,
     "metadata": {},
     "output_type": "execute_result"
    }
   ],
   "source": [
    "model(np.ones(x.shape[0]))"
   ]
  },
  {
   "cell_type": "code",
   "execution_count": 23,
   "metadata": {},
   "outputs": [
    {
     "data": {
      "text/plain": [
       "-1.1403006536453808"
      ]
     },
     "execution_count": 23,
     "metadata": {},
     "output_type": "execute_result"
    }
   ],
   "source": [
    "model(np.ones(x.shape[0])*2)"
   ]
  },
  {
   "cell_type": "code",
   "execution_count": 24,
   "metadata": {},
   "outputs": [
    {
     "data": {
      "text/plain": [
       "      fun: -15.416396762069796\n",
       " hess_inv: array([[0.19359   , 0.19744549, 0.19442474, 0.18268564, 0.17126222,\n",
       "        0.15776505, 0.14277503],\n",
       "       [0.19744549, 0.20581946, 0.2074763 , 0.19711983, 0.18492264,\n",
       "        0.16970413, 0.15249962],\n",
       "       [0.19442474, 0.2074763 , 0.21566846, 0.20965879, 0.19865446,\n",
       "        0.18328421, 0.16484604],\n",
       "       [0.18268564, 0.19711983, 0.20965879, 0.20968703, 0.20274955,\n",
       "        0.19083608, 0.17483467],\n",
       "       [0.17126222, 0.18492264, 0.19865446, 0.20274955, 0.19964394,\n",
       "        0.19185019, 0.17968128],\n",
       "       [0.15776505, 0.16970413, 0.18328421, 0.19083608, 0.19185019,\n",
       "        0.1890913 , 0.18219389],\n",
       "       [0.14277503, 0.15249962, 0.16484604, 0.17483467, 0.17968128,\n",
       "        0.18219389, 0.18141158]])\n",
       "      jac: array([-3.57627869e-07,  1.19209290e-07, -1.07288361e-06,  1.31130219e-06,\n",
       "       -1.07288361e-06,  5.96046448e-07, -5.96046448e-07])\n",
       "  message: 'Optimization terminated successfully.'\n",
       "     nfev: 180\n",
       "      nit: 14\n",
       "     njev: 20\n",
       "   status: 0\n",
       "  success: True\n",
       "        x: array([ 0.10392424,  0.06389698, -0.01997947, -0.10591875, -0.1482467 ,\n",
       "       -0.17043081, -0.17011941])"
      ]
     },
     "execution_count": 24,
     "metadata": {},
     "output_type": "execute_result"
    }
   ],
   "source": [
    "res = scipy.optimize.minimize(lambda y:-model(y), x0=np.zeros(x.shape[0]))\n",
    "res"
   ]
  },
  {
   "cell_type": "code",
   "execution_count": 25,
   "metadata": {},
   "outputs": [
    {
     "data": {
      "text/plain": [
       "[<matplotlib.lines.Line2D at 0x1fbf267cc48>]"
      ]
     },
     "execution_count": 25,
     "metadata": {},
     "output_type": "execute_result"
    },
    {
     "data": {
      "image/png": "[encoded data removed]",
      "text/plain": [
       "<Figure size 432x288 with 1 Axes>"
      ]
     },
     "metadata": {
      "needs_background": "light"
     },
     "output_type": "display_data"
    }
   ],
   "source": [
    "plt.plot(x, res.x, 'o-')"
   ]
  },
  {
   "cell_type": "code",
   "execution_count": 26,
   "metadata": {},
   "outputs": [
    {
     "data": {
      "text/plain": [
       "15.416396762069796"
      ]
     },
     "execution_count": 26,
     "metadata": {},
     "output_type": "execute_result"
    }
   ],
   "source": [
    "model(res.x)"
   ]
  },
  {
   "cell_type": "code",
   "execution_count": 27,
   "metadata": {},
   "outputs": [
    {
     "data": {
      "text/plain": [
       "-13.284988252607882"
      ]
     },
     "execution_count": 27,
     "metadata": {},
     "output_type": "execute_result"
    }
   ],
   "source": [
    "x1 = res.x.copy()\n",
    "x1[0] = 0.05\n",
    "\n",
    "model(x1)"
   ]
  },
  {
   "cell_type": "code",
   "execution_count": 28,
   "metadata": {},
   "outputs": [
    {
     "data": {
      "text/plain": [
       "[<matplotlib.lines.Line2D at 0x1fbf2691a08>]"
      ]
     },
     "execution_count": 28,
     "metadata": {},
     "output_type": "execute_result"
    },
    {
     "data": {
      "image/png": "[encoded data removed]",
      "text/plain": [
       "<Figure size 432x288 with 1 Axes>"
      ]
     },
     "metadata": {
      "needs_background": "light"
     },
     "output_type": "display_data"
    }
   ],
   "source": [
    "alpha = 1.0\n",
    "rho = 1.0\n",
    "sigma = 0.1\n",
    "\n",
    "K = cov_exp_quad(x, alpha = alpha, rho = rho)\n",
    "K = K + np.eye(K.shape[0])*1e-6\n",
    "\n",
    "L_K = np.linalg.cholesky(K)\n",
    "\n",
    "mu = np.zeros(N)\n",
    "\n",
    "\n",
    "res = scipy.optimize.minimize(lambda y:-model(y), x0=np.zeros(x.shape[0]))\n",
    "plt.plot(x, res.x, 'o-')"
   ]
  },
  {
   "cell_type": "code",
   "execution_count": 29,
   "metadata": {},
   "outputs": [
    {
     "data": {
      "text/plain": [
       "[<matplotlib.lines.Line2D at 0x1fbf27ed188>]"
      ]
     },
     "execution_count": 29,
     "metadata": {},
     "output_type": "execute_result"
    },
    {
     "data": {
      "image/png": "[encoded data removed]",
      "text/plain": [
       "<Figure size 432x288 with 1 Axes>"
      ]
     },
     "metadata": {
      "needs_background": "light"
     },
     "output_type": "display_data"
    }
   ],
   "source": [
    "alpha = 1.0\n",
    "rho = 1.0\n",
    "sigma = 0.01\n",
    "\n",
    "K = cov_exp_quad(x, alpha = alpha, rho = rho)\n",
    "K = K + np.eye(K.shape[0])*1e-6\n",
    "\n",
    "L_K = np.linalg.cholesky(K)\n",
    "\n",
    "mu = np.zeros(N)\n",
    "\n",
    "\n",
    "res = scipy.optimize.minimize(lambda y:-model(y), x0=np.zeros(x.shape[0]))\n",
    "plt.plot(x, res.x, 'o-')"
   ]
  },
  {
   "cell_type": "code",
   "execution_count": 30,
   "metadata": {},
   "outputs": [
    {
     "data": {
      "text/plain": [
       "[<matplotlib.lines.Line2D at 0x1fbf285e308>]"
      ]
     },
     "execution_count": 30,
     "metadata": {},
     "output_type": "execute_result"
    },
    {
     "data": {
      "image/png": "[encoded data removed]",
      "text/plain": [
       "<Figure size 432x288 with 1 Axes>"
      ]
     },
     "metadata": {
      "needs_background": "light"
     },
     "output_type": "display_data"
    }
   ],
   "source": [
    "alpha = 1.0\n",
    "rho = 1.0\n",
    "sigma = 0.001\n",
    "\n",
    "K = cov_exp_quad(x, alpha = alpha, rho = rho)\n",
    "K = K + np.eye(K.shape[0])*1e-6\n",
    "\n",
    "L_K = np.linalg.cholesky(K)\n",
    "\n",
    "mu = np.zeros(N)\n",
    "\n",
    "\n",
    "res = scipy.optimize.minimize(lambda y:-model(y), x0=np.zeros(x.shape[0]))\n",
    "plt.plot(x, res.x, 'o-')"
   ]
  },
  {
   "cell_type": "code",
   "execution_count": null,
   "metadata": {},
   "outputs": [],
   "source": []
  }
 ],
 "metadata": {
  "kernelspec": {
   "display_name": "stan_env",
   "language": "python",
   "name": "stan_env"
  },
  "language_info": {
   "codemirror_mode": {
    "name": "ipython",
    "version": 3
   },
   "file_extension": ".py",
   "mimetype": "text/x-python",
   "name": "python",
   "nbconvert_exporter": "python",
   "pygments_lexer": "ipython3",
   "version": "3.7.4"
  }
 },
 "nbformat": 4,
 "nbformat_minor": 2
}
